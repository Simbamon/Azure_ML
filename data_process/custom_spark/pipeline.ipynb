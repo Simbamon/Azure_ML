{
 "cells": [
  {
   "cell_type": "code",
   "execution_count": null,
   "metadata": {
    "vscode": {
     "languageId": "plaintext"
    }
   },
   "outputs": [],
   "source": [
    "from azure.ai.ml import MLClient\n",
    "from azure.identity import DefaultAzureCredential, InteractiveBrowserCredential\n",
    "from azure.ai.ml.dsl import pipeline\n",
    "from azure.ai.ml import Input, Output, load_component\n",
    "from azure.ai.ml.entities import Environment\n",
    "from azure.ai.ml.constants import AssetTypes, InputOutputModes\n",
    "import json\n",
    "import os"
   ]
  },
  {
   "cell_type": "code",
   "execution_count": null,
   "metadata": {
    "vscode": {
     "languageId": "plaintext"
    }
   },
   "outputs": [],
   "source": [
    "project_dir = '<YOUR_AZUREML_STUDIO_PROJECT_DIRECTORY>'\n",
    "\n",
    "credential_path = os.path.join(project_dir, 'credentials.json')\n",
    "\n",
    "with open(credential_path, 'r') as f:\n",
    "    az_credential_config = json.load(f)\n",
    "\n",
    "az_subscription_id = az_credential_config['subscription_id']\n",
    "az_resource_group = az_credential_config['resource_group']\n",
    "az_workspace = az_credential_config['workspace']"
   ]
  },
  {
   "cell_type": "code",
   "execution_count": null,
   "metadata": {
    "vscode": {
     "languageId": "plaintext"
    }
   },
   "outputs": [],
   "source": [
    "ml_client = MLClient(\n",
    "    DefaultAzureCredential(),\n",
    "    az_subscription_id,\n",
    "    az_resource_group,\n",
    "    az_workspace\n",
    ")"
   ]
  },
  {
   "cell_type": "code",
   "execution_count": null,
   "metadata": {
    "vscode": {
     "languageId": "plaintext"
    }
   },
   "outputs": [],
   "source": [
    "pyspark_load_data = load_component(source=os.path.join(project_dir,'data_load_component.yaml'))\n",
    "\n",
    "print(pyspark_load_data)"
   ]
  }
 ],
 "metadata": {
  "language_info": {
   "name": "python"
  }
 },
 "nbformat": 4,
 "nbformat_minor": 2
}
