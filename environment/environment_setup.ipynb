{
 "cells": [
  {
   "cell_type": "code",
   "execution_count": null,
   "metadata": {},
   "outputs": [],
   "source": [
    "# Handle to the workspace\n",
    "from azure.ai.ml import MLClient\n",
    "\n",
    "# Authentication package\n",
    "from azure.identity import DefaultAzureCredential, InteractiveBrowserCredential\n",
    "\n",
    "try:\n",
    "    credential = DefaultAzureCredential()\n",
    "    # Check if given credential can get token successfully.\n",
    "    credential.get_token(\"https://management.azure.com/.default\")\n",
    "except Exception as ex:\n",
    "    # Fall back to InteractiveBrowserCredential in case DefaultAzureCredential not work\n",
    "    credential = InteractiveBrowserCredential()"
   ]
  },
  {
   "cell_type": "code",
   "execution_count": null,
   "metadata": {},
   "outputs": [],
   "source": [
    "\n",
    "import json\n",
    "\n",
    "with open('credentials.json') as f:\n",
    "    az_credential_config = json.load(f)\n",
    "\n",
    "az_subscription_id = az_credential_config['subscription_id']\n",
    "az_resource_group = az_credential_config['resource_group']\n",
    "az_workspace = az_credential_config['workspace']"
   ]
  },
  {
   "cell_type": "code",
   "execution_count": null,
   "metadata": {},
   "outputs": [],
   "source": [
    "# Get a handle to the workspace\n",
    "ml_client = MLClient(\n",
    "    credential=credential,\n",
    "    subscription_id=az_subscription_id,\n",
    "    resource_group_name=az_resource_group,\n",
    "    workspace_name=az_workspace,\n",
    ")"
   ]
  },
  {
   "cell_type": "code",
   "execution_count": null,
   "metadata": {},
   "outputs": [],
   "source": [
    "from azure.ai.ml.entities import Environment\n",
    "import datetime\n",
    "\n",
    "run_date = datetime.datetime.now().strftime(\"%Y%m%dT%H%M%S\")\n",
    "\n",
    "custom_environment = Environment(\n",
    "    name = '<YOUR_CUSTOM_ENV_NAME>',\n",
    "    description = '<CUSTOM_ENV_DESCRIPTION>',\n",
    "    conda_file = ('./conda.yaml'),\n",
    "    # Base Microsoft provided image\n",
    "    image = 'mcr.microsoft.com/azureml/openmpi3.1.2-ubuntu18.04:latest',\n",
    "    version = run_date\n",
    ")"
   ]
  },
  {
   "cell_type": "code",
   "execution_count": null,
   "metadata": {},
   "outputs": [],
   "source": [
    "ml_client.environments.create_or_update"
   ]
  }
 ],
 "metadata": {
  "language_info": {
   "name": "python"
  }
 },
 "nbformat": 4,
 "nbformat_minor": 2
}
